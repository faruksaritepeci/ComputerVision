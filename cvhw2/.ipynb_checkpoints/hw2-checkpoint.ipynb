{
 "cells": [
  {
   "cell_type": "markdown",
   "metadata": {},
   "source": [
    "# Homework 2\n",
    "\n",
    "Please read the instructions before starting.\n",
    "\n",
    "- Only use array manipulation functions from ```numpy```.\n",
    "- You can use ```PIL``` for reading images and ```ipywidgets``` and ```display``` to display them.\n",
    "- Use ```numpy``` operations and arrays as much as possible for performance criteria. Try to avoid using for-loops as they will drastically slow down your implementations for large-scale images. Slow implementations will have a penalty during grading.\n",
    "- You can overwrite the template as long as the above conditions are not violated and the functionality is kept the same.\n",
    "\n",
    " Fill the the marked areas in the cells for each question.\n",
    "\n",
    "## Question 1\n"
   ]
  },
  {
   "cell_type": "markdown",
   "metadata": {},
   "source": [
    "Similar to the last question in the homework 1, implement a local filtering function using ```numpy``` and run mean and Gaussian filters of varying kernel sizes to the input image. (Note that you can use your previous implementation as a starting point)\n"
   ]
  },
  {
   "cell_type": "code",
   "execution_count": 1,
   "metadata": {
    "pycharm": {
     "is_executing": true
    }
   },
   "outputs": [],
   "source": [
    "from typing import List, Tuple, Any\n",
    "import numpy as np\n",
    "from PIL.Image import Image as ImageType\n",
    "from PIL import Image\n",
    "\n",
    "from utils import array_to_image, image_to_array\n",
    "from renderer import noise_renderers\n",
    "\n",
    "\n",
    "def apply_filter(image: ImageType, kernel: np.ndarray, padding: List[List[int]]) -> np.ndarray:\n",
    "    \"\"\" Apply a filter with the given kernel to the zero padded input image.\n",
    "        **Note:** Kernels can be rectangular.\n",
    "        **Note:** You can use ```np.meshgrid``` and indexing to avoid using loops (bonus +5) for convolving.\n",
    "        **Do not** use ```np.convolve``` in this question.\n",
    "        **Do not** use ```np.pad```. Use index assignment and slicing with numpy and do not loop\n",
    "            over the pixels for padding.\n",
    "\n",
    "    Args:\n",
    "        image (ImageType): 2D Input image\n",
    "        kernel np.ndarray: 2D kernel array of odd edge sizes\n",
    "        padding: List[list[int]]: List of zero paddings. Example: [[3, 2], [1, 4]]. The first list\n",
    "            [3, 3] determines the padding for the width of the image while [1, 4] determines the\n",
    "            padding to apply to top and bottom of the image. The resulting image will have a shape\n",
    "            of ((1 + H + 4), (3 + W + 2)).\n",
    "\n",
    "    Raises:\n",
    "        ValueError: If the length of kernel edges are not odd\n",
    "\n",
    "    Returns:\n",
    "        np.ndarray: Filtered array (May contain negative values)\n",
    "    \"\"\"\n",
    "    #  /$$$$$$$$ /$$$$$$ /$$       /$$\n",
    "    # | $$_____/|_  $$_/| $$      | $$\n",
    "    # | $$        | $$  | $$      | $$\n",
    "    # | $$$$$     | $$  | $$      | $$\n",
    "    # | $$__/     | $$  | $$      | $$\n",
    "    # | $$        | $$  | $$      | $$\n",
    "    # | $$       /$$$$$$| $$$$$$$$| $$$$$$$$\n",
    "    # |__/      |______/|________/|________/\n",
    "    if len(kernel) %2 == 0 or len(kernel[0]) %2 == 0: #return value error for non odd kernel edges\n",
    "        raise ValueError\n",
    "\n",
    "    imageArray = np.asarray(image, dtype=np.uint8) #get image as 8bit integer matrix\n",
    "\n",
    "    xZero = np.zeros(len(imageArray[0]), dtype=np.uint8)\n",
    "    yZero = np.zeros(len(imageArray) + padding[1][0] + padding[1][1], dtype=np.uint8)\n",
    "\n",
    "    # pads pad vectors using np.insert (because np.pad is prohibited)\n",
    "    # Very short loops to concatenate padding\n",
    "    for i in range(padding[1][0]):\n",
    "        imageArray = np.insert(imageArray, 0, 0, axis=0)\n",
    "\n",
    "    for i in range(padding[1][1]):\n",
    "        imageArray = np.insert(imageArray, len(imageArray), 0, axis=0)\n",
    "\n",
    "    for i in range(padding[0][0]):\n",
    "        imageArray = np.insert(imageArray, 0, 0, axis=1)\n",
    "\n",
    "    for i in range(padding[0][1]):\n",
    "        imageArray = imageArray = np.insert(imageArray, len(imageArray[0]), 0, axis=1)\n",
    "\n",
    "\n",
    "    ky = int((len(kernel) - 1) / 2) # get kernel k (length and height)\n",
    "    kx = int((len(kernel[0]) - 1) / 2)\n",
    "\n",
    "    yy, xx = np.meshgrid(range(padding[1][0], imageArray.shape[0] - padding[1][1] ), range(padding[0][0], imageArray.shape[1] - padding[0][1] ), indexing=\"ij\")\n",
    "\n",
    "    def Filter(y, x):  # returns window value for given coordinates\n",
    "        return  np.clip(sum(sum(kernel * imageArray[y-ky: y+ky+1, x-kx:x+kx+1])), 0, 255)\n",
    "\n",
    "\n",
    "    FilterVec = np.vectorize(Filter)\n",
    "\n",
    "\n",
    "    resultArray = FilterVec(yy, xx)  # apply whole filter using meshgrid coordinates\n",
    "\n",
    "    return np.uint8(resultArray)  # return it as 8 bit integer matrix\n",
    "\n",
    "\n",
    "def box_filter(image: ImageType, kernel_size: Tuple[int]) -> ImageType:\n",
    "    \"\"\" Apply Box filter.\n",
    "\n",
    "    Args:\n",
    "        image (ImageType): 2D Input image of shape (H, W)\n",
    "        kernel_size (Tuple[int]): 2D kernel size of kernel (height, width)\n",
    "\n",
    "    Returns:\n",
    "        ImageType: Filtered Image\n",
    "    \"\"\"\n",
    "    #  /$$$$$$$$ /$$$$$$ /$$       /$$\n",
    "    # | $$_____/|_  $$_/| $$      | $$\n",
    "    # | $$        | $$  | $$      | $$\n",
    "    # | $$$$$     | $$  | $$      | $$\n",
    "    # | $$__/     | $$  | $$      | $$\n",
    "    # | $$        | $$  | $$      | $$\n",
    "    # | $$       /$$$$$$| $$$$$$$$| $$$$$$$$\n",
    "    # |__/      |______/|________/|________/\n",
    "    boxKernel = np.ones(kernel_size) / (kernel_size[0] * kernel_size[1])  # average of window\n",
    "\n",
    "    kernelheight = int((kernel_size[0] - 1) / 2)\n",
    "    kernelwidth = int((kernel_size[1] - 1) / 2)\n",
    "\n",
    "    padding = [[kernelwidth,kernelwidth], [kernelheight,kernelheight]]\n",
    "\n",
    "    return Image.fromarray(apply_filter(image, boxKernel, padding))\n",
    "    \n",
    "\n",
    "\n",
    "\n",
    "def gaussian_filter(image: ImageType, kernel_size: Tuple[int], sigma: float) -> ImageType:\n",
    "    \"\"\" Apply Gauss filter that is centered and has the shared standard deviation ```sigma```\n",
    "    **Note:** Remember to normalize kernel before applying.\n",
    "    **Note:** You can use ```np.meshgrid``` (once again) to generate Gaussian kernels\n",
    "\n",
    "    Args:\n",
    "        image (ImageType): 2D Input image of shape (H, W)\n",
    "        kernel_size (Tuple[int]): 2D kernel size\n",
    "        sigma (float): Standard deviation\n",
    "\n",
    "    Returns:\n",
    "        ImageType: Filtered Image\n",
    "    \"\"\"\n",
    "    #  /$$$$$$$$ /$$$$$$ /$$       /$$\n",
    "    # | $$_____/|_  $$_/| $$      | $$\n",
    "    # | $$        | $$  | $$      | $$\n",
    "    # | $$$$$     | $$  | $$      | $$\n",
    "    # | $$__/     | $$  | $$      | $$\n",
    "    # | $$        | $$  | $$      | $$\n",
    "    # | $$       /$$$$$$| $$$$$$$$| $$$$$$$$\n",
    "    # |__/      |______/|________/|________/\n",
    "\n",
    "\n",
    "    # gaus formula : ( 1/(2*pi*sigma^2) ) * exp(-(x^2 + y^2)/(2*sigma^2)\n",
    "\n",
    "    gaussianKernel = np.ones(kernel_size) / (kernel_size[0] * kernel_size[1])\n",
    "\n",
    "    kernelheight = int((kernel_size[0] - 1) / 2)\n",
    "    kernelwidth = int((kernel_size[1] - 1) / 2)\n",
    "\n",
    "    for y in range(kernelheight +1): #calculate gaus window values by copying to mirror values for each calculation\n",
    "        for x in range(kernelwidth +1):\n",
    "            value = ( 1/(2*np.pi * np.power(sigma, 2)) ) * np.exp(-(np.power(x,2) + np.power(y,2))/(2*np.power(sigma, 2)))\n",
    "            gaussianKernel[y+kernelheight][x+kernelwidth] = value\n",
    "            gaussianKernel[kernelheight-y][kernelwidth-x] = value\n",
    "            gaussianKernel[kernelheight+y][kernelwidth-x] = value\n",
    "            gaussianKernel[kernelheight-y][kernelwidth+x] = value\n",
    "    gaussianKernel /= sum(sum(gaussianKernel)) #normalize gaus\n",
    "    padding = [[kernelwidth,kernelwidth], [kernelheight,kernelheight]]\n",
    "\n",
    "    return Image.fromarray(apply_filter(image, gaussianKernel, padding))\n"
   ]
  },
  {
   "cell_type": "code",
   "execution_count": 2,
   "metadata": {},
   "outputs": [
    {
     "data": {
      "application/vnd.jupyter.widget-view+json": {
       "model_id": "dbf8b4f33d36493ab3a76a4ffbf1da46",
       "version_major": 2,
       "version_minor": 0
      },
      "text/plain": [
       "HBox(children=(VBox(children=(VBox(children=(HTML(value='<h2>Original Image</h2>'),), layout=Layout(height='20…"
      ]
     },
     "metadata": {},
     "output_type": "display_data"
    }
   ],
   "source": [
    "# Test your above functions before running this cell\n",
    "image = Image.open(\"noisy_image.png\")\n",
    "noise_renderers(image, gaussian_filter, box_filter)"
   ]
  },
  {
   "cell_type": "markdown",
   "metadata": {},
   "source": [
    "> Discuss the differences of the box and Gaussian filters in this Markdown cell.\n",
    "\n",
    "**Answer**: Gaussian filter gives more weight to pixels near the center of the window, making it a more consistent smoothing than box filter which takes the average of all pixels in the window while convolving. This causes it to be more blurry. Gaussian filter also has better gaussian noise eliminations but it seems to fall short when trying to clear salt-pepper noises; because it puts a heavier weight on the pixel its on, when its on salt and pepper pixels it doesnt reduce them as much. Box filter performs better in salt-pepper noises."
   ]
  },
  {
   "cell_type": "markdown",
   "metadata": {},
   "source": [
    "## Question 2\n",
    "\n",
    "Implement vertical and horizontal derivatives with 1D kernels of length 3. Use ```apply_filter``` function to do so.\n",
    "\n",
    "**Note:** You can use kernels of shape (1, k) or (k, 1) as 1D kernels. "
   ]
  },
  {
   "cell_type": "code",
   "execution_count": 3,
   "metadata": {},
   "outputs": [],
   "source": [
    "from renderer import edge_renderers\n",
    "\n",
    "def horizontal_derivative(image: ImageType) -> ImageType:\n",
    "    \"\"\" Return the horizontal derivative image with same padding.\n",
    "    **Note**: Pad the input image so that the output image has the same size/shape.\n",
    "\n",
    "    Args:\n",
    "        image (ImageType): 2D Input Image of shape (H, W)\n",
    "\n",
    "    Returns:\n",
    "        ImageType: Derivative image of shape (H, W).\n",
    "    \"\"\"\n",
    "    #  /$$$$$$$$ /$$$$$$ /$$       /$$\n",
    "    # | $$_____/|_  $$_/| $$      | $$\n",
    "    # | $$        | $$  | $$      | $$\n",
    "    # | $$$$$     | $$  | $$      | $$\n",
    "    # | $$__/     | $$  | $$      | $$\n",
    "    # | $$        | $$  | $$      | $$\n",
    "    # | $$       /$$$$$$| $$$$$$$$| $$$$$$$$\n",
    "    # |__/      |______/|________/|________/\n",
    "\n",
    "    kernel_size = (1, 3)\n",
    "\n",
    "    horizontalKernel = np.asarray([[1, 0, -1]])\n",
    "\n",
    "    kernelheight = int((kernel_size[0] - 1) / 2)\n",
    "    kernelwidth = int((kernel_size[1] - 1) / 2)\n",
    "\n",
    "    padding = [[kernelwidth,kernelwidth], [kernelheight,kernelheight]]\n",
    "\n",
    "    return Image.fromarray(apply_filter(image, horizontalKernel, padding))\n",
    "\n",
    "\n",
    "def vertical_derivative(image: ImageType) -> ImageType:\n",
    "    \"\"\" Return the vertical derivative image with same padding.\n",
    "    **Note**: Pad the input image so that the output image has the same size/shape.\n",
    "\n",
    "    Args:\n",
    "        image (ImageType): 2D Input Image of shape (H, W)\n",
    "\n",
    "    Returns:\n",
    "        ImageType: Derivative image of shape (H, W).\n",
    "    \"\"\"\n",
    "    #  /$$$$$$$$ /$$$$$$ /$$       /$$\n",
    "    # | $$_____/|_  $$_/| $$      | $$\n",
    "    # | $$        | $$  | $$      | $$\n",
    "    # | $$$$$     | $$  | $$      | $$\n",
    "    # | $$__/     | $$  | $$      | $$\n",
    "    # | $$        | $$  | $$      | $$\n",
    "    # | $$       /$$$$$$| $$$$$$$$| $$$$$$$$\n",
    "    # |__/      |______/|________/|________/\n",
    "\n",
    "    kernel_size = (3, 1)\n",
    "\n",
    "    verticalKernel = np.asarray([[1],[0],[-1]])\n",
    "\n",
    "    kernelheight = int((kernel_size[0] - 1) / 2)\n",
    "    kernelwidth = int((kernel_size[1] - 1) / 2)\n",
    "\n",
    "    padding = [[kernelwidth,kernelwidth], [kernelheight,kernelheight]]\n",
    "\n",
    "    return Image.fromarray(apply_filter(image, verticalKernel, padding))\n"
   ]
  },
  {
   "cell_type": "code",
   "execution_count": 4,
   "metadata": {},
   "outputs": [
    {
     "data": {
      "application/vnd.jupyter.widget-view+json": {
       "model_id": "721ba2ac35534486b11d1cb3cb3ba0e4",
       "version_major": 2,
       "version_minor": 0
      },
      "text/plain": [
       "HBox(children=(VBox(children=(VBox(children=(HTML(value='<h2>Original Image</h2>'),), layout=Layout(height='70…"
      ]
     },
     "metadata": {},
     "output_type": "display_data"
    }
   ],
   "source": [
    "# Test your above functions before running this cell\n",
    "image = Image.open(\"building.png\")\n",
    "edge_renderers(\n",
    "    (image, \"Original Image\"),\n",
    "    (vertical_derivative(image), \"Vertical\"),\n",
    "    (horizontal_derivative(image), \"Horizontal\"),\n",
    ")"
   ]
  },
  {
   "cell_type": "markdown",
   "metadata": {},
   "source": [
    "### Sobel Operator\n",
    "\n",
    "Implement Sobel filter for edge detection using 3x3 kernels.\n",
    "\n",
    "Combine the output of the vertical and horizontal Sobel operators, namely $S_x$ and $S_y$, to obtain gradient image.\n",
    " "
   ]
  },
  {
   "cell_type": "code",
   "execution_count": 5,
   "metadata": {},
   "outputs": [],
   "source": [
    "def sobel_vertical(image: ImageType) -> np.ndarray:\n",
    "    \"\"\" Return the output of the vertical Sobel operator with same padding.\n",
    "\n",
    "    Args:\n",
    "        image (ImageType): 2D Input Image of shape (H, W)\n",
    "\n",
    "    Returns:\n",
    "        np.ndarray: Derivative array of shape (H, W).\n",
    "    \"\"\"\n",
    "    #  /$$$$$$$$ /$$$$$$ /$$       /$$\n",
    "    # | $$_____/|_  $$_/| $$      | $$\n",
    "    # | $$        | $$  | $$      | $$\n",
    "    # | $$$$$     | $$  | $$      | $$\n",
    "    # | $$__/     | $$  | $$      | $$\n",
    "    # | $$        | $$  | $$      | $$\n",
    "    # | $$       /$$$$$$| $$$$$$$$| $$$$$$$$\n",
    "    # |__/      |______/|________/|________/\n",
    "\n",
    "\n",
    "    kernel_size = (3, 3)\n",
    "\n",
    "    sobelverticalKernel = np.asarray([[-1, -2, -1],[0,0,0],[1, 2, 1]])\n",
    "\n",
    "    kernelheight = int((kernel_size[0] - 1) / 2)\n",
    "    kernelwidth = int((kernel_size[1] - 1) / 2)\n",
    "\n",
    "    padding = [[kernelwidth,kernelwidth], [kernelheight,kernelheight]]\n",
    "    return apply_filter(image, sobelverticalKernel, padding)\n",
    "\n",
    "\n",
    "def sobel_horizontal(image: ImageType) -> np.ndarray:\n",
    "    \"\"\" Return the output of the horizontal Sobel operator with same padding.\n",
    "\n",
    "    Args:\n",
    "        image (ImageType): 2D Input Image of shape (H, W)\n",
    "\n",
    "    Returns:\n",
    "        np.ndarray: Derivative array of shape (H, W).\n",
    "    \"\"\"\n",
    "    #  /$$$$$$$$ /$$$$$$ /$$       /$$\n",
    "    # | $$_____/|_  $$_/| $$      | $$\n",
    "    # | $$        | $$  | $$      | $$\n",
    "    # | $$$$$     | $$  | $$      | $$\n",
    "    # | $$__/     | $$  | $$      | $$\n",
    "    # | $$        | $$  | $$      | $$\n",
    "    # | $$       /$$$$$$| $$$$$$$$| $$$$$$$$\n",
    "    # |__/      |______/|________/|________/\n",
    "\n",
    "    kernel_size = (3, 3)\n",
    "\n",
    "    sobelhorizontalKernel = np.asarray([[-1, 0, 1],[-2,0,2],[-1, 0, 1]])\n",
    "\n",
    "    kernelheight = int((kernel_size[0] - 1) / 2)\n",
    "    kernelwidth = int((kernel_size[1] - 1) / 2)\n",
    "\n",
    "    padding = [[kernelwidth,kernelwidth], [kernelheight,kernelheight]]  # for test\n",
    "    return apply_filter(image, sobelhorizontalKernel, padding)\n",
    "\n",
    "\n",
    "def gradient_image(image: ImageType) -> ImageType:\n",
    "    \"\"\" Return the gradient image calculated by combining the output of Sobel filters.\n",
    "\n",
    "    Args:\n",
    "        image (ImageType): 2D Input Image of shape (H, W)\n",
    "\n",
    "    Returns:\n",
    "        ImageType: Derivative image of shape (H, W).\n",
    "    \"\"\"\n",
    "    #  /$$$$$$$$ /$$$$$$ /$$       /$$\n",
    "    # | $$_____/|_  $$_/| $$      | $$\n",
    "    # | $$        | $$  | $$      | $$\n",
    "    # | $$$$$     | $$  | $$      | $$\n",
    "    # | $$__/     | $$  | $$      | $$\n",
    "    # | $$        | $$  | $$      | $$\n",
    "    # | $$       /$$$$$$| $$$$$$$$| $$$$$$$$\n",
    "    # |__/      |______/|________/|________/\n",
    "    result = np.clip(np.hypot(sobel_vertical(image), sobel_horizontal(image)), 0, 255) #hypot same as square root of sum of squares\n",
    "    return Image.fromarray(np.uint8(result))\n"
   ]
  },
  {
   "cell_type": "code",
   "execution_count": 6,
   "metadata": {},
   "outputs": [
    {
     "data": {
      "application/vnd.jupyter.widget-view+json": {
       "model_id": "353cecae8aa94a188d5e79596ce8ac6f",
       "version_major": 2,
       "version_minor": 0
      },
      "text/plain": [
       "HBox(children=(VBox(children=(VBox(children=(HTML(value='<h2>Original Image</h2>'),), layout=Layout(height='70…"
      ]
     },
     "metadata": {},
     "output_type": "display_data"
    }
   ],
   "source": [
    "# Test your above functions before running this cell\n",
    "image = Image.open(\"building.png\")\n",
    "edge_renderers(\n",
    "    (image, \"Original Image\"),\n",
    "    (gradient_image(image), \"Edge Image\"),\n",
    ")"
   ]
  },
  {
   "cell_type": "markdown",
   "metadata": {},
   "source": []
  },
  {
   "cell_type": "code",
   "execution_count": null,
   "metadata": {},
   "outputs": [],
   "source": []
  }
 ],
 "metadata": {
  "kernelspec": {
   "display_name": "Python 3 (ipykernel)",
   "language": "python",
   "name": "python3"
  },
  "language_info": {
   "codemirror_mode": {
    "name": "ipython",
    "version": 3
   },
   "file_extension": ".py",
   "mimetype": "text/x-python",
   "name": "python",
   "nbconvert_exporter": "python",
   "pygments_lexer": "ipython3",
   "version": "3.10.7"
  },
  "varInspector": {
   "cols": {
    "lenName": 16,
    "lenType": 16,
    "lenVar": 40
   },
   "kernels_config": {
    "python": {
     "delete_cmd_postfix": "",
     "delete_cmd_prefix": "del ",
     "library": "var_list.py",
     "varRefreshCmd": "print(var_dic_list())"
    },
    "r": {
     "delete_cmd_postfix": ") ",
     "delete_cmd_prefix": "rm(",
     "library": "var_list.r",
     "varRefreshCmd": "cat(var_dic_list()) "
    }
   },
   "types_to_exclude": [
    "module",
    "function",
    "builtin_function_or_method",
    "instance",
    "_Feature"
   ],
   "window_display": false
  },
  "vscode": {
   "interpreter": {
    "hash": "db51f63e40cc150d717fac562ae657078572815755cf4fcf61485cbda97a260f"
   }
  }
 },
 "nbformat": 4,
 "nbformat_minor": 2
}
